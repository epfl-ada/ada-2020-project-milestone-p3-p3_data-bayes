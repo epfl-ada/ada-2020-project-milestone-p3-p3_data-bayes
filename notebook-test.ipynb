{
 "metadata": {
  "language_info": {
   "codemirror_mode": {
    "name": "ipython",
    "version": 3
   },
   "file_extension": ".py",
   "mimetype": "text/x-python",
   "name": "python",
   "nbconvert_exporter": "python",
   "pygments_lexer": "ipython3",
   "version": "3.8.6-final"
  },
  "orig_nbformat": 2,
  "kernelspec": {
   "name": "python3",
   "display_name": "Python 3"
  }
 },
 "nbformat": 4,
 "nbformat_minor": 2,
 "cells": [
  {
   "cell_type": "code",
   "execution_count": 6,
   "metadata": {},
   "outputs": [],
   "source": [
    "import pickle\n",
    "import pandas as pd"
   ]
  },
  {
   "cell_type": "code",
   "execution_count": 17,
   "metadata": {},
   "outputs": [],
   "source": [
    "df=pd.read_pickle('deception_df.pkl')\n"
   ]
  },
  {
   "cell_type": "code",
   "execution_count": 24,
   "metadata": {},
   "outputs": [
    {
     "output_type": "stream",
     "name": "stdout",
     "text": [
      "most unpolite messages\n"
     ]
    },
    {
     "output_type": "display_data",
     "data": {
      "text/plain": "2947                             I will not fuck you over\n9493    What a clod you are. How in blue fuck does kee...\n2945                               Don’t fuck me over tho\n5760    You're a dick dude.  I will make sure that tha...\n9629    I was getting you into Kiel. You made a bad de...\nName: messages, dtype: object"
     },
     "metadata": {}
    },
    {
     "output_type": "stream",
     "name": "stdout",
     "text": [
      "most polite messages\n"
     ]
    },
    {
     "output_type": "execute_result",
     "data": {
      "text/plain": [
       "15767    Thanks, much appreciated - Hoping to work toge...\n",
       "6958                                        Ok, thank you!\n",
       "11526                         That would be great! Thanks!\n",
       "491       Okay, thank you for letting me know. That helps!\n",
       "11599             Sounds great man! Thanks for everything!\n",
       "Name: messages, dtype: object"
      ]
     },
     "metadata": {},
     "execution_count": 24
    }
   ],
   "source": [
    "print('most unpolite messages')\n",
    "display(df.sort_values('politeness').head(5).messages)\n",
    "print('most polite messages')\n",
    "df.sort_values('politeness', ascending=False).head(5).messages"
   ]
  },
  {
   "cell_type": "code",
   "execution_count": null,
   "metadata": {},
   "outputs": [],
   "source": [
    "print('most unpolite messages')\n",
    "display(df.sort_values('politeness').head(5).messages)\n",
    "print('most polite messages')\n",
    "df.sort_values('politeness', ascending=False).head(5).messages"
   ]
  }
 ]
}