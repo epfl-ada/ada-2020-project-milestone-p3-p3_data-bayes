{
 "cells": [
  {
   "cell_type": "markdown",
   "metadata": {
    "id": "uNgD32DT9aJi"
   },
   "source": [
    "# 2. Data exploration\n",
    " "
   ]
  },
  {
   "cell_type": "markdown",
   "metadata": {},
   "source": [
    "## 2.0. Imports and high-level overview"
   ]
  },
  {
   "cell_type": "code",
   "execution_count": 1,
   "metadata": {},
   "outputs": [],
   "source": [
    "import pickle\n",
    "import pandas as pd\n",
    "import nltk\n",
    "import string\n",
    "import re\n",
    "import seaborn as sns\n",
    "import matplotlib.pyplot as plt"
   ]
  },
  {
   "cell_type": "code",
   "execution_count": 2,
   "metadata": {},
   "outputs": [],
   "source": [
    "df = pd.read_pickle('deception_df.pkl')"
   ]
  },
  {
   "cell_type": "code",
   "execution_count": 3,
   "metadata": {},
   "outputs": [
    {
     "data": {
      "text/html": [
       "<div>\n",
       "<style scoped>\n",
       "    .dataframe tbody tr th:only-of-type {\n",
       "        vertical-align: middle;\n",
       "    }\n",
       "\n",
       "    .dataframe tbody tr th {\n",
       "        vertical-align: top;\n",
       "    }\n",
       "\n",
       "    .dataframe thead th {\n",
       "        text-align: right;\n",
       "    }\n",
       "</style>\n",
       "<table border=\"1\" class=\"dataframe\">\n",
       "  <thead>\n",
       "    <tr style=\"text-align: right;\">\n",
       "      <th></th>\n",
       "      <th>messages</th>\n",
       "      <th>sender_labels</th>\n",
       "      <th>receiver_labels</th>\n",
       "      <th>speakers</th>\n",
       "      <th>receivers</th>\n",
       "      <th>absolute_message_index</th>\n",
       "      <th>relative_message_index</th>\n",
       "      <th>seasons</th>\n",
       "      <th>years</th>\n",
       "      <th>game_score</th>\n",
       "      <th>game_score_delta</th>\n",
       "      <th>players</th>\n",
       "      <th>game_id</th>\n",
       "      <th>politeness</th>\n",
       "      <th>negative_sentiment</th>\n",
       "      <th>neutral_sentiment</th>\n",
       "      <th>positive_sentiment</th>\n",
       "      <th>vader_score</th>\n",
       "    </tr>\n",
       "  </thead>\n",
       "  <tbody>\n",
       "    <tr>\n",
       "      <th>4229</th>\n",
       "      <td>I can still switch to bouncing Russia.</td>\n",
       "      <td>True</td>\n",
       "      <td>True</td>\n",
       "      <td>germany</td>\n",
       "      <td>austria</td>\n",
       "      <td>871</td>\n",
       "      <td>136</td>\n",
       "      <td>Spring</td>\n",
       "      <td>1902</td>\n",
       "      <td>5</td>\n",
       "      <td>0</td>\n",
       "      <td>germany,austria</td>\n",
       "      <td>2</td>\n",
       "      <td>3.214181</td>\n",
       "      <td>0.000000</td>\n",
       "      <td>1.000000</td>\n",
       "      <td>0.0</td>\n",
       "      <td>0.0000</td>\n",
       "    </tr>\n",
       "    <tr>\n",
       "      <th>3323</th>\n",
       "      <td>lol kk. Let's do this</td>\n",
       "      <td>True</td>\n",
       "      <td>True</td>\n",
       "      <td>austria</td>\n",
       "      <td>italy</td>\n",
       "      <td>812</td>\n",
       "      <td>248</td>\n",
       "      <td>Spring</td>\n",
       "      <td>1902</td>\n",
       "      <td>5</td>\n",
       "      <td>1</td>\n",
       "      <td>italy,austria</td>\n",
       "      <td>2</td>\n",
       "      <td>3.160315</td>\n",
       "      <td>0.000000</td>\n",
       "      <td>1.000000</td>\n",
       "      <td>0.0</td>\n",
       "      <td>0.6486</td>\n",
       "    </tr>\n",
       "    <tr>\n",
       "      <th>4827</th>\n",
       "      <td>If Russia is smart, he’ll disband Warsaw becau...</td>\n",
       "      <td>True</td>\n",
       "      <td>NOANNOTATION</td>\n",
       "      <td>england</td>\n",
       "      <td>germany</td>\n",
       "      <td>1818</td>\n",
       "      <td>207</td>\n",
       "      <td>Winter</td>\n",
       "      <td>1903</td>\n",
       "      <td>6</td>\n",
       "      <td>-1</td>\n",
       "      <td>germany,england</td>\n",
       "      <td>2</td>\n",
       "      <td>3.057895</td>\n",
       "      <td>0.333333</td>\n",
       "      <td>0.666667</td>\n",
       "      <td>0.0</td>\n",
       "      <td>-0.5023</td>\n",
       "    </tr>\n",
       "  </tbody>\n",
       "</table>\n",
       "</div>"
      ],
      "text/plain": [
       "                                               messages  sender_labels  \\\n",
       "4229             I can still switch to bouncing Russia.           True   \n",
       "3323                              lol kk. Let's do this           True   \n",
       "4827  If Russia is smart, he’ll disband Warsaw becau...           True   \n",
       "\n",
       "     receiver_labels speakers receivers  absolute_message_index  \\\n",
       "4229            True  germany   austria                     871   \n",
       "3323            True  austria     italy                     812   \n",
       "4827    NOANNOTATION  england   germany                    1818   \n",
       "\n",
       "      relative_message_index seasons years game_score game_score_delta  \\\n",
       "4229                     136  Spring  1902          5                0   \n",
       "3323                     248  Spring  1902          5                1   \n",
       "4827                     207  Winter  1903          6               -1   \n",
       "\n",
       "              players  game_id  politeness  negative_sentiment  \\\n",
       "4229  germany,austria        2    3.214181            0.000000   \n",
       "3323    italy,austria        2    3.160315            0.000000   \n",
       "4827  germany,england        2    3.057895            0.333333   \n",
       "\n",
       "      neutral_sentiment  positive_sentiment  vader_score  \n",
       "4229           1.000000                 0.0       0.0000  \n",
       "3323           1.000000                 0.0       0.6486  \n",
       "4827           0.666667                 0.0      -0.5023  "
      ]
     },
     "execution_count": 3,
     "metadata": {},
     "output_type": "execute_result"
    }
   ],
   "source": [
    "df.sample(3)"
   ]
  },
  {
   "cell_type": "code",
   "execution_count": 4,
   "metadata": {},
   "outputs": [
    {
     "data": {
      "text/html": [
       "<div>\n",
       "<style scoped>\n",
       "    .dataframe tbody tr th:only-of-type {\n",
       "        vertical-align: middle;\n",
       "    }\n",
       "\n",
       "    .dataframe tbody tr th {\n",
       "        vertical-align: top;\n",
       "    }\n",
       "\n",
       "    .dataframe thead th {\n",
       "        text-align: right;\n",
       "    }\n",
       "</style>\n",
       "<table border=\"1\" class=\"dataframe\">\n",
       "  <thead>\n",
       "    <tr style=\"text-align: right;\">\n",
       "      <th></th>\n",
       "      <th>absolute_message_index</th>\n",
       "      <th>relative_message_index</th>\n",
       "      <th>game_id</th>\n",
       "      <th>politeness</th>\n",
       "      <th>negative_sentiment</th>\n",
       "      <th>neutral_sentiment</th>\n",
       "      <th>positive_sentiment</th>\n",
       "      <th>vader_score</th>\n",
       "    </tr>\n",
       "  </thead>\n",
       "  <tbody>\n",
       "    <tr>\n",
       "      <th>count</th>\n",
       "      <td>17289.000000</td>\n",
       "      <td>17289.000000</td>\n",
       "      <td>17289.000000</td>\n",
       "      <td>17289.000000</td>\n",
       "      <td>17289.000000</td>\n",
       "      <td>17289.000000</td>\n",
       "      <td>17289.000000</td>\n",
       "      <td>17289.000000</td>\n",
       "    </tr>\n",
       "    <tr>\n",
       "      <th>mean</th>\n",
       "      <td>948.323153</td>\n",
       "      <td>113.711782</td>\n",
       "      <td>5.401990</td>\n",
       "      <td>3.335990</td>\n",
       "      <td>0.254738</td>\n",
       "      <td>0.605296</td>\n",
       "      <td>0.139966</td>\n",
       "      <td>0.195610</td>\n",
       "    </tr>\n",
       "    <tr>\n",
       "      <th>std</th>\n",
       "      <td>750.710891</td>\n",
       "      <td>129.367961</td>\n",
       "      <td>3.778135</td>\n",
       "      <td>0.333862</td>\n",
       "      <td>0.376942</td>\n",
       "      <td>0.420526</td>\n",
       "      <td>0.303795</td>\n",
       "      <td>0.413835</td>\n",
       "    </tr>\n",
       "    <tr>\n",
       "      <th>min</th>\n",
       "      <td>0.000000</td>\n",
       "      <td>0.000000</td>\n",
       "      <td>1.000000</td>\n",
       "      <td>1.349828</td>\n",
       "      <td>0.000000</td>\n",
       "      <td>0.000000</td>\n",
       "      <td>0.000000</td>\n",
       "      <td>-0.973100</td>\n",
       "    </tr>\n",
       "    <tr>\n",
       "      <th>25%</th>\n",
       "      <td>360.000000</td>\n",
       "      <td>22.000000</td>\n",
       "      <td>2.000000</td>\n",
       "      <td>3.168759</td>\n",
       "      <td>0.000000</td>\n",
       "      <td>0.000000</td>\n",
       "      <td>0.000000</td>\n",
       "      <td>0.000000</td>\n",
       "    </tr>\n",
       "    <tr>\n",
       "      <th>50%</th>\n",
       "      <td>769.000000</td>\n",
       "      <td>65.000000</td>\n",
       "      <td>4.000000</td>\n",
       "      <td>3.297227</td>\n",
       "      <td>0.000000</td>\n",
       "      <td>0.666667</td>\n",
       "      <td>0.000000</td>\n",
       "      <td>0.168000</td>\n",
       "    </tr>\n",
       "    <tr>\n",
       "      <th>75%</th>\n",
       "      <td>1347.000000</td>\n",
       "      <td>152.000000</td>\n",
       "      <td>9.000000</td>\n",
       "      <td>3.461842</td>\n",
       "      <td>0.500000</td>\n",
       "      <td>1.000000</td>\n",
       "      <td>0.000000</td>\n",
       "      <td>0.510600</td>\n",
       "    </tr>\n",
       "    <tr>\n",
       "      <th>max</th>\n",
       "      <td>3301.000000</td>\n",
       "      <td>674.000000</td>\n",
       "      <td>12.000000</td>\n",
       "      <td>4.588427</td>\n",
       "      <td>1.000000</td>\n",
       "      <td>1.000000</td>\n",
       "      <td>1.000000</td>\n",
       "      <td>0.991600</td>\n",
       "    </tr>\n",
       "  </tbody>\n",
       "</table>\n",
       "</div>"
      ],
      "text/plain": [
       "       absolute_message_index  relative_message_index       game_id  \\\n",
       "count            17289.000000            17289.000000  17289.000000   \n",
       "mean               948.323153              113.711782      5.401990   \n",
       "std                750.710891              129.367961      3.778135   \n",
       "min                  0.000000                0.000000      1.000000   \n",
       "25%                360.000000               22.000000      2.000000   \n",
       "50%                769.000000               65.000000      4.000000   \n",
       "75%               1347.000000              152.000000      9.000000   \n",
       "max               3301.000000              674.000000     12.000000   \n",
       "\n",
       "         politeness  negative_sentiment  neutral_sentiment  \\\n",
       "count  17289.000000        17289.000000       17289.000000   \n",
       "mean       3.335990            0.254738           0.605296   \n",
       "std        0.333862            0.376942           0.420526   \n",
       "min        1.349828            0.000000           0.000000   \n",
       "25%        3.168759            0.000000           0.000000   \n",
       "50%        3.297227            0.000000           0.666667   \n",
       "75%        3.461842            0.500000           1.000000   \n",
       "max        4.588427            1.000000           1.000000   \n",
       "\n",
       "       positive_sentiment   vader_score  \n",
       "count        17289.000000  17289.000000  \n",
       "mean             0.139966      0.195610  \n",
       "std              0.303795      0.413835  \n",
       "min              0.000000     -0.973100  \n",
       "25%              0.000000      0.000000  \n",
       "50%              0.000000      0.168000  \n",
       "75%              0.000000      0.510600  \n",
       "max              1.000000      0.991600  "
      ]
     },
     "execution_count": 4,
     "metadata": {},
     "output_type": "execute_result"
    }
   ],
   "source": [
    "df.describe()"
   ]
  },
  {
   "cell_type": "markdown",
   "metadata": {},
   "source": [
    "## 2.1. Overview of message politeness"
   ]
  },
  {
   "cell_type": "markdown",
   "metadata": {},
   "source": [
    "### 2.1.1. Distributions"
   ]
  },
  {
   "cell_type": "code",
   "execution_count": 5,
   "metadata": {},
   "outputs": [],
   "source": [
    "def plot_distribution(df, target, hue, stat=\"density\", title=\"\"):\n",
    "    \"\"\" \n",
    "    Plots distributions (using a histogram and a KDE plot) for the reputation and ratings variable, using arxiv as a hue\n",
    "    \"\"\"\n",
    "    fig, ax = plt.subplots(nrows=1, ncols=1, figsize=(6, 4), dpi=70)\n",
    "    # Reputation (don't plot KDE in same subplot as hist as it's harder to discern)\n",
    "    sns.histplot(df, ax=ax, x=target, hue=hue, multiple=\"layer\", stat=stat, common_norm=False, kde=True)\n",
    "\n",
    "    sns.despine(fig)\n",
    "    fig.suptitle(title, fontsize=14)\n",
    "    fig.tight_layout()\n",
    "    plt.show()"
   ]
  },
  {
   "cell_type": "code",
   "execution_count": 6,
   "metadata": {},
   "outputs": [
    {
     "data": {
      "image/png": "[encoded data removed]",
      "text/plain": [
       "<Figure size 420x280 with 1 Axes>"
      ]
     },
     "metadata": {
      "needs_background": "light"
     },
     "output_type": "display_data"
    }
   ],
   "source": [
    "plot_distribution(df, target=\"politeness\", hue=None, stat=\"count\", title=\"Politeness distribution\")"
   ]
  },
  {
   "cell_type": "markdown",
   "metadata": {},
   "source": [
    "### 2.1.2. Message samples"
   ]
  },
  {
   "cell_type": "markdown",
   "metadata": {},
   "source": [
    "* #### Least polite messages"
   ]
  },
  {
   "cell_type": "code",
   "execution_count": 7,
   "metadata": {},
   "outputs": [
    {
     "name": "stdout",
     "output_type": "stream",
     "text": [
      "Score: 1.350 | Message: I will not fuck you over\n",
      "Score: 1.422 | Message: What a clod you are. How in blue fuck does keeping Turkey in the game benefit you in the least.\n",
      "Score: 1.449 | Message: Don’t fuck me over tho\n",
      "Score: 1.468 | Message: You're a dick dude.  I will make sure that that's the last one you take.  I'll let E/G walk over me of I have to\n",
      "Score: 1.477 | Message: I was getting you into Kiel. You made a bad decision, you ruined my game, and you can go fuck yourself.\n"
     ]
    }
   ],
   "source": [
    "for _, row in df.sort_values('politeness').head(5).iterrows():\n",
    "    print(f\"Score: {row['politeness']:.3f} | Message: {row['messages']}\")"
   ]
  },
  {
   "cell_type": "markdown",
   "metadata": {},
   "source": [
    "* #### First quartile"
   ]
  },
  {
   "cell_type": "code",
   "execution_count": 8,
   "metadata": {},
   "outputs": [
    {
     "name": "stdout",
     "output_type": "stream",
     "text": [
      "Score: 3.169 | Message: Totally understand that, I don’t want to be allied with the Turks but warring them and Russia at the same time is a pain in the ass. I’m convinced that they are against Russia and will help me until they know russia will go down (which could very well only be this fall or fall and spring)\n",
      "Score: 3.169 | Message: He’s a little salty with me for the Belgium thing\n",
      "Score: 3.169 | Message: Okay I’m reading your proposal again and are you saying you would get all of russia?\n",
      "Score: 3.169 | Message: If France is honest with me, Ruhr will be free and Bur will be occupied. \n",
      "\n",
      "Let's be real here, though: Russia has at most two units to spare to threaten you, and likely not even that given the imminent pressure from Austria. I'm trying to work it out in the sandbox now but I really don't think they'd be an issue for you...\n",
      "Score: 3.169 | Message: Either I build armies and funnel through Scandinavia to help you or build fleets and take on Italy.\n"
     ]
    }
   ],
   "source": [
    "for _, row in df.sort_values('politeness').iloc[int(len(df)/4):,:].head(5).iterrows():\n",
    "    print(f\"Score: {row['politeness']:.3f} | Message: {row['messages']}\")"
   ]
  },
  {
   "cell_type": "markdown",
   "metadata": {},
   "source": [
    "* #### Median"
   ]
  },
  {
   "cell_type": "code",
   "execution_count": 9,
   "metadata": {},
   "outputs": [
    {
     "name": "stdout",
     "output_type": "stream",
     "text": [
      "Score: 3.297 | Message: Makes sense - Germany has some guessing games in there...\n",
      "Score: 3.297 | Message: I don’t have an agreement with England, but he is asking me about my moves and trying to get my help.\n",
      "Score: 3.297 | Message: Night!\n",
      "Score: 3.297 | Message: I'm supporting you into Nth with one fleet\n",
      "Score: 3.297 | Message: Hey! Not sure yet, if you're online in an hour let's talk then.  What up with you and Russia?\n"
     ]
    }
   ],
   "source": [
    "for _, row in df.sort_values('politeness').iloc[int(len(df)/2):,:].head(5).iterrows():\n",
    "    print(f\"Score: {row['politeness']:.3f} | Message: {row['messages']}\")"
   ]
  },
  {
   "cell_type": "markdown",
   "metadata": {},
   "source": [
    "* #### Third quartile"
   ]
  },
  {
   "cell_type": "code",
   "execution_count": 10,
   "metadata": {},
   "outputs": [
    {
     "name": "stdout",
     "output_type": "stream",
     "text": [
      "Score: 3.462 | Message: Yeah, I think you'll be fine with Austria initially\n",
      "Score: 3.462 | Message: You are correct, and that's why I want the army to go down there to help out silly head. Not sure where the confusion stems from.\n",
      "Score: 3.462 | Message: Yeah I was thinking actually that it would make sense to put Russia into munich\n",
      "Score: 3.462 | Message: Hey Italy, everything well over here. We probably won't be directly involved with each-other until mid-game, but if we're both still around, a France/Italy alliance could be pretty strong😉 .\n",
      "Score: 3.462 | Message: Yeah prob either south coast or army. Im thinking an army could be good since I already have one fleet there\n"
     ]
    }
   ],
   "source": [
    "for _, row in df.sort_values('politeness').iloc[int(3*len(df)/4):,:].head(5).iterrows():\n",
    "    print(f\"Score: {row['politeness']:.3f} | Message: {row['messages']}\")"
   ]
  },
  {
   "cell_type": "markdown",
   "metadata": {},
   "source": [
    "* #### Most polite messages"
   ]
  },
  {
   "cell_type": "code",
   "execution_count": 11,
   "metadata": {},
   "outputs": [
    {
     "name": "stdout",
     "output_type": "stream",
     "text": [
      "Score: 4.588 | Message: Thanks, much appreciated - Hoping to work together more going forward!\n",
      "Score: 4.584 | Message: Ok, thank you!\n",
      "Score: 4.567 | Message: That would be great! Thanks!\n",
      "Score: 4.566 | Message: Okay, thank you for letting me know. That helps!\n",
      "Score: 4.554 | Message: Sounds great man! Thanks for everything!\n"
     ]
    }
   ],
   "source": [
    "for _, row in df.sort_values('politeness', ascending=False).head(5).iterrows():\n",
    "    print(f\"Score: {row['politeness']:.3f} | Message: {row['messages']}\")"
   ]
  },
  {
   "cell_type": "markdown",
   "metadata": {},
   "source": [
    "### 2.1.3. Term frequency"
   ]
  },
  {
   "cell_type": "code",
   "execution_count": 12,
   "metadata": {},
   "outputs": [],
   "source": [
    " def term_count(txt, top_N):\n",
    "    \"\"\"Finds term frequencies for a list of words\"\"\"\n",
    "    txt = txt.translate(str.maketrans('', '', string.punctuation+'’´'))\n",
    "    words = nltk.tokenize.word_tokenize(txt)\n",
    "\n",
    "    stopwords = nltk.corpus.stopwords.words('english')\n",
    "    pattern = re.compile(txt, re.UNICODE | re.IGNORECASE)\n",
    "    words = nltk.tokenize.word_tokenize(txt)\n",
    "\n",
    "    words_dist = nltk.FreqDist(w for w in words if w not in stopwords+['england','russia','france','turkey','germany','italy','austria-hungary', 'austria'])\n",
    "\n",
    "    rslt = pd.DataFrame(words_dist.most_common(top_N),\n",
    "                        columns=['Word', 'Count'])\n",
    "    display(rslt)"
   ]
  },
  {
   "cell_type": "markdown",
   "metadata": {},
   "source": [
    "* #### Least polite messages"
   ]
  },
  {
   "cell_type": "markdown",
   "metadata": {},
   "source": [
    "Term count for the 100 least polite messages"
   ]
  },
  {
   "cell_type": "code",
   "execution_count": 13,
   "metadata": {},
   "outputs": [
    {
     "data": {
      "text/html": [
       "<div>\n",
       "<style scoped>\n",
       "    .dataframe tbody tr th:only-of-type {\n",
       "        vertical-align: middle;\n",
       "    }\n",
       "\n",
       "    .dataframe tbody tr th {\n",
       "        vertical-align: top;\n",
       "    }\n",
       "\n",
       "    .dataframe thead th {\n",
       "        text-align: right;\n",
       "    }\n",
       "</style>\n",
       "<table border=\"1\" class=\"dataframe\">\n",
       "  <thead>\n",
       "    <tr style=\"text-align: right;\">\n",
       "      <th></th>\n",
       "      <th>Word</th>\n",
       "      <th>Count</th>\n",
       "    </tr>\n",
       "  </thead>\n",
       "  <tbody>\n",
       "    <tr>\n",
       "      <th>0</th>\n",
       "      <td>im</td>\n",
       "      <td>29</td>\n",
       "    </tr>\n",
       "    <tr>\n",
       "      <th>1</th>\n",
       "      <td>fuck</td>\n",
       "      <td>27</td>\n",
       "    </tr>\n",
       "    <tr>\n",
       "      <th>2</th>\n",
       "      <td>fucking</td>\n",
       "      <td>15</td>\n",
       "    </tr>\n",
       "    <tr>\n",
       "      <th>3</th>\n",
       "      <td>shit</td>\n",
       "      <td>14</td>\n",
       "    </tr>\n",
       "    <tr>\n",
       "      <th>4</th>\n",
       "      <td>game</td>\n",
       "      <td>11</td>\n",
       "    </tr>\n",
       "    <tr>\n",
       "      <th>5</th>\n",
       "      <td>fuckin</td>\n",
       "      <td>9</td>\n",
       "    </tr>\n",
       "    <tr>\n",
       "      <th>6</th>\n",
       "      <td>going</td>\n",
       "      <td>9</td>\n",
       "    </tr>\n",
       "    <tr>\n",
       "      <th>7</th>\n",
       "      <td>dont</td>\n",
       "      <td>8</td>\n",
       "    </tr>\n",
       "    <tr>\n",
       "      <th>8</th>\n",
       "      <td>two</td>\n",
       "      <td>8</td>\n",
       "    </tr>\n",
       "    <tr>\n",
       "      <th>9</th>\n",
       "      <td>army</td>\n",
       "      <td>8</td>\n",
       "    </tr>\n",
       "  </tbody>\n",
       "</table>\n",
       "</div>"
      ],
      "text/plain": [
       "      Word  Count\n",
       "0       im     29\n",
       "1     fuck     27\n",
       "2  fucking     15\n",
       "3     shit     14\n",
       "4     game     11\n",
       "5   fuckin      9\n",
       "6    going      9\n",
       "7     dont      8\n",
       "8      two      8\n",
       "9     army      8"
      ]
     },
     "metadata": {},
     "output_type": "display_data"
    }
   ],
   "source": [
    "top_N = 10\n",
    "txt = df.sort_values('politeness').head(100).messages.str.lower().str.replace(r'\\|', ' ').str.cat(sep=' ')\n",
    "term_count(txt, top_N)"
   ]
  },
  {
   "cell_type": "markdown",
   "metadata": {},
   "source": [
    "* #### Messages with median politeness"
   ]
  },
  {
   "cell_type": "markdown",
   "metadata": {},
   "source": [
    "Term count for the 100 messages near the median"
   ]
  },
  {
   "cell_type": "code",
   "execution_count": 14,
   "metadata": {},
   "outputs": [
    {
     "data": {
      "text/html": [
       "<div>\n",
       "<style scoped>\n",
       "    .dataframe tbody tr th:only-of-type {\n",
       "        vertical-align: middle;\n",
       "    }\n",
       "\n",
       "    .dataframe tbody tr th {\n",
       "        vertical-align: top;\n",
       "    }\n",
       "\n",
       "    .dataframe thead th {\n",
       "        text-align: right;\n",
       "    }\n",
       "</style>\n",
       "<table border=\"1\" class=\"dataframe\">\n",
       "  <thead>\n",
       "    <tr style=\"text-align: right;\">\n",
       "      <th></th>\n",
       "      <th>Word</th>\n",
       "      <th>Count</th>\n",
       "    </tr>\n",
       "  </thead>\n",
       "  <tbody>\n",
       "    <tr>\n",
       "      <th>0</th>\n",
       "      <td>im</td>\n",
       "      <td>27</td>\n",
       "    </tr>\n",
       "    <tr>\n",
       "      <th>1</th>\n",
       "      <td>want</td>\n",
       "      <td>11</td>\n",
       "    </tr>\n",
       "    <tr>\n",
       "      <th>2</th>\n",
       "      <td>would</td>\n",
       "      <td>11</td>\n",
       "    </tr>\n",
       "    <tr>\n",
       "      <th>3</th>\n",
       "      <td>sure</td>\n",
       "      <td>10</td>\n",
       "    </tr>\n",
       "    <tr>\n",
       "      <th>4</th>\n",
       "      <td>get</td>\n",
       "      <td>10</td>\n",
       "    </tr>\n",
       "    <tr>\n",
       "      <th>5</th>\n",
       "      <td>going</td>\n",
       "      <td>9</td>\n",
       "    </tr>\n",
       "    <tr>\n",
       "      <th>6</th>\n",
       "      <td>think</td>\n",
       "      <td>8</td>\n",
       "    </tr>\n",
       "    <tr>\n",
       "      <th>7</th>\n",
       "      <td>could</td>\n",
       "      <td>8</td>\n",
       "    </tr>\n",
       "    <tr>\n",
       "      <th>8</th>\n",
       "      <td>move</td>\n",
       "      <td>8</td>\n",
       "    </tr>\n",
       "    <tr>\n",
       "      <th>9</th>\n",
       "      <td>talk</td>\n",
       "      <td>7</td>\n",
       "    </tr>\n",
       "  </tbody>\n",
       "</table>\n",
       "</div>"
      ],
      "text/plain": [
       "    Word  Count\n",
       "0     im     27\n",
       "1   want     11\n",
       "2  would     11\n",
       "3   sure     10\n",
       "4    get     10\n",
       "5  going      9\n",
       "6  think      8\n",
       "7  could      8\n",
       "8   move      8\n",
       "9   talk      7"
      ]
     },
     "metadata": {},
     "output_type": "display_data"
    }
   ],
   "source": [
    "# Check for vocabulary of messages with median politeness\n",
    "top_N = 10\n",
    "txt = df.sort_values('politeness').iloc[int(len(df)/2) - 50: int(len(df)/2) + 50,:].messages.str.lower().str.replace(r'\\|', ' ').str.cat(sep=' ')\n",
    "term_count(txt, top_N)"
   ]
  },
  {
   "cell_type": "markdown",
   "metadata": {},
   "source": [
    "* #### Most polite messages"
   ]
  },
  {
   "cell_type": "markdown",
   "metadata": {},
   "source": [
    "Term count for the 100 most polite messages"
   ]
  },
  {
   "cell_type": "code",
   "execution_count": 15,
   "metadata": {},
   "outputs": [
    {
     "data": {
      "text/html": [
       "<div>\n",
       "<style scoped>\n",
       "    .dataframe tbody tr th:only-of-type {\n",
       "        vertical-align: middle;\n",
       "    }\n",
       "\n",
       "    .dataframe tbody tr th {\n",
       "        vertical-align: top;\n",
       "    }\n",
       "\n",
       "    .dataframe thead th {\n",
       "        text-align: right;\n",
       "    }\n",
       "</style>\n",
       "<table border=\"1\" class=\"dataframe\">\n",
       "  <thead>\n",
       "    <tr style=\"text-align: right;\">\n",
       "      <th></th>\n",
       "      <th>Word</th>\n",
       "      <th>Count</th>\n",
       "    </tr>\n",
       "  </thead>\n",
       "  <tbody>\n",
       "    <tr>\n",
       "      <th>0</th>\n",
       "      <td>thanks</td>\n",
       "      <td>48</td>\n",
       "    </tr>\n",
       "    <tr>\n",
       "      <th>1</th>\n",
       "      <td>thank</td>\n",
       "      <td>43</td>\n",
       "    </tr>\n",
       "    <tr>\n",
       "      <th>2</th>\n",
       "      <td>good</td>\n",
       "      <td>11</td>\n",
       "    </tr>\n",
       "    <tr>\n",
       "      <th>3</th>\n",
       "      <td>much</td>\n",
       "      <td>10</td>\n",
       "    </tr>\n",
       "    <tr>\n",
       "      <th>4</th>\n",
       "      <td>know</td>\n",
       "      <td>10</td>\n",
       "    </tr>\n",
       "    <tr>\n",
       "      <th>5</th>\n",
       "      <td>yes</td>\n",
       "      <td>10</td>\n",
       "    </tr>\n",
       "    <tr>\n",
       "      <th>6</th>\n",
       "      <td>great</td>\n",
       "      <td>8</td>\n",
       "    </tr>\n",
       "    <tr>\n",
       "      <th>7</th>\n",
       "      <td>help</td>\n",
       "      <td>8</td>\n",
       "    </tr>\n",
       "    <tr>\n",
       "      <th>8</th>\n",
       "      <td>forward</td>\n",
       "      <td>7</td>\n",
       "    </tr>\n",
       "    <tr>\n",
       "      <th>9</th>\n",
       "      <td>okay</td>\n",
       "      <td>7</td>\n",
       "    </tr>\n",
       "  </tbody>\n",
       "</table>\n",
       "</div>"
      ],
      "text/plain": [
       "      Word  Count\n",
       "0   thanks     48\n",
       "1    thank     43\n",
       "2     good     11\n",
       "3     much     10\n",
       "4     know     10\n",
       "5      yes     10\n",
       "6    great      8\n",
       "7     help      8\n",
       "8  forward      7\n",
       "9     okay      7"
      ]
     },
     "metadata": {},
     "output_type": "display_data"
    }
   ],
   "source": [
    "# Check for most polite vocabulary\n",
    "top_N = 10\n",
    "txt = df.sort_values('politeness', ascending=False).head(100).messages.str.lower().str.replace(r'\\|', ' ').str.cat(sep=' ')\n",
    "term_count(txt, top_N)"
   ]
  },
  {
   "cell_type": "markdown",
   "metadata": {},
   "source": [
    "## 2.2. Overview of Stanford Sentiment Analysis and VADER score"
   ]
  },
  {
   "cell_type": "markdown",
   "metadata": {},
   "source": [
    "### 2.1.1. Distributions"
   ]
  },
  {
   "cell_type": "code",
   "execution_count": 16,
   "metadata": {},
   "outputs": [
    {
     "data": {
      "image/png": "[encoded data removed]",
      "text/plain": [
       "<Figure size 420x280 with 1 Axes>"
      ]
     },
     "metadata": {
      "needs_background": "light"
     },
     "output_type": "display_data"
    }
   ],
   "source": [
    "plot_distribution(df, target=\"vader_score\", hue=None, stat=\"count\", title=\"VADER score distribution\")"
   ]
  },
  {
   "cell_type": "code",
   "execution_count": 17,
   "metadata": {},
   "outputs": [
    {
     "data": {
      "image/png": "[encoded data removed]",
      "text/plain": [
       "<Figure size 420x280 with 1 Axes>"
      ]
     },
     "metadata": {
      "needs_background": "light"
     },
     "output_type": "display_data"
    }
   ],
   "source": [
    "plot_distribution(df, target=\"negative_sentiment\", hue=None, stat=\"count\", title=\"Distribution of proportion of negative sentiment sentences in a message\")"
   ]
  },
  {
   "cell_type": "code",
   "execution_count": 18,
   "metadata": {},
   "outputs": [
    {
     "data": {
      "image/png": "[encoded data removed]",
      "text/plain": [
       "<Figure size 420x280 with 1 Axes>"
      ]
     },
     "metadata": {
      "needs_background": "light"
     },
     "output_type": "display_data"
    }
   ],
   "source": [
    "plot_distribution(df, target=\"neutral_sentiment\", hue=None, stat=\"count\", title=\"Distribution of proportion of neutral sentiment sentences in a message\")"
   ]
  },
  {
   "cell_type": "code",
   "execution_count": 19,
   "metadata": {},
   "outputs": [
    {
     "data": {
      "image/png": "[encoded data removed]",
      "text/plain": [
       "<Figure size 420x280 with 1 Axes>"
      ]
     },
     "metadata": {
      "needs_background": "light"
     },
     "output_type": "display_data"
    }
   ],
   "source": [
    "plot_distribution(df, target=\"positive_sentiment\", hue=None, stat=\"count\", title=\"Distribution of proportion of positive sentiment sentences in a message\")"
   ]
  },
  {
   "cell_type": "markdown",
   "metadata": {},
   "source": [
    "* #### A few negative messages (and their  VADER score)"
   ]
  },
  {
   "cell_type": "code",
   "execution_count": 20,
   "metadata": {
    "tags": []
   },
   "outputs": [
    {
     "name": "stdout",
     "output_type": "stream",
     "text": [
      "VADER score: 0.637 | Message: As much as I love DQ, he isn't always right about everything.\n",
      "VADER score: -0.557 | Message: Believe me that between him and France, I’m not trying to start shit with you\n",
      "VADER score: 0.000 | Message: As long as he doesn’t move NAO to Norwegian, you’ve got a guaranteed supply center.\n",
      "VADER score: -0.318 | Message: That was a lost cause\n",
      "VADER score: -0.751 | Message: Berlin will be in Prussia by that time, holding Warsaw against any of our attacks and threatening your single unit covering both Moscow and St Petersburg\n",
      "VADER score: 0.477 | Message: Ah, I didn't see that Italy was in Greece. Would have been wise to check the map before sending messages\n",
      "VADER score: 0.000 | Message: You will have a unit in Mar and a unit in Spa if you move from LYO to Spa, there wouldn’t be anything I could take\n",
      "VADER score: -0.494 | Message: I am having trouble keeping in contact with Italy, but what I want to do is work with him closely in the Med and put up a lot of fleet pressure in the south.\n",
      "VADER score: 0.402 | Message: Can you support hold my unit in Moscow?\n",
      "VADER score: 0.240 | Message: Sorry I haven't lost interest in the game it's just not on conspiracy so I don't think to periodically check this all\n"
     ]
    }
   ],
   "source": [
    "for _, row in df[df['negative_sentiment'] == 1.0].sample(10, random_state=0).iterrows():\n",
    "    print(f\"VADER score: {row['vader_score']:.3f} | Message: {row['messages']}\")"
   ]
  },
  {
   "cell_type": "markdown",
   "metadata": {},
   "source": [
    "* ####  A few neutral messages (and their VADER score)"
   ]
  },
  {
   "cell_type": "code",
   "execution_count": 21,
   "metadata": {},
   "outputs": [
    {
     "name": "stdout",
     "output_type": "stream",
     "text": [
      "VADER score: 0.000 | Message: Is there anything you would change?\n",
      "VADER score: 0.000 | Message: ???\n",
      "VADER score: 0.572 | Message: Lol you choose ;)\n",
      "VADER score: 0.706 | Message: Quite possibly. You'll want me to tap it anyway to help protect Vienna.\n",
      "VADER score: 0.000 | Message: A bre - gas\n",
      "A bur - Mar\n",
      "A mar - Pie\n",
      "A par - bur\n",
      "F spa/sc - MAO\n",
      "VADER score: 0.000 | Message: rn I'm having Moscow to sev\n",
      "VADER score: 0.421 | Message: Lol\n",
      "VADER score: 0.000 | Message: If you are up for it, I can move to English Channel and Mid Atlantic Ocean, and then convoy Wales to North Africa.\n",
      "VADER score: 0.402 | Message: Going to support their push into Ukr\n",
      "VADER score: 0.077 | Message: England told me you said I was plotting with France. It makes sense you’d want to pit us against each other.\n"
     ]
    }
   ],
   "source": [
    "for _, row in df[df['neutral_sentiment'] == 1.0].sample(10, random_state=0).iterrows():\n",
    "    print(f\"VADER score: {row['vader_score']:.3f} | Message: {row['messages']}\")"
   ]
  },
  {
   "cell_type": "markdown",
   "metadata": {},
   "source": [
    "* #### A few positive messages (and their VADER score)"
   ]
  },
  {
   "cell_type": "code",
   "execution_count": 22,
   "metadata": {},
   "outputs": [
    {
     "name": "stdout",
     "output_type": "stream",
     "text": [
      "VADER score: 0.700 | Message: Yeah, R & T position is very strong now.\n",
      "VADER score: 0.784 | Message: Awesome, thank you!\n",
      "VADER score: -0.624 | Message: Ahhhh, sneaky Devil! Thank you for letting me know.\n",
      "VADER score: 0.440 | Message: Good take of STP\n",
      "VADER score: 0.965 | Message: Great! Sorry, I'm still new to this so when something neat occurs to me I feel the need to share my brilliant and original realisation XD\n",
      "VADER score: 0.735 | Message: So ig I'm just suggesting that we stay friends until mid game where we contact one another and could have a very powerful alliance.\n",
      "VADER score: 0.361 | Message: Thank you sir\n",
      "VADER score: 0.765 | Message: Great, I’ll plan on the repeat bounce this spring, and it sounds like we’ll chat about it again for fall moves\n",
      "VADER score: 0.178 | Message: That's funny you didn't happen to mention your aggression into Vie in your previous messages\n",
      "VADER score: 0.700 | Message: I’m so happy that Italy didn’t retreat to Mao\n"
     ]
    }
   ],
   "source": [
    "for _, row in df[df['positive_sentiment'] == 1.0].sample(10, random_state=0).iterrows():\n",
    "    print(f\"VADER score: {row['vader_score']:.3f} | Message: {row['messages']}\")"
   ]
  },
  {
   "cell_type": "markdown",
   "metadata": {},
   "source": [
    "### 4. Study of the vocabulary distribution"
   ]
  },
  {
   "cell_type": "markdown",
   "metadata": {},
   "source": [
    "* #### Negative sentiment term count"
   ]
  },
  {
   "cell_type": "code",
   "execution_count": 23,
   "metadata": {},
   "outputs": [
    {
     "data": {
      "text/html": [
       "<div>\n",
       "<style scoped>\n",
       "    .dataframe tbody tr th:only-of-type {\n",
       "        vertical-align: middle;\n",
       "    }\n",
       "\n",
       "    .dataframe tbody tr th {\n",
       "        vertical-align: top;\n",
       "    }\n",
       "\n",
       "    .dataframe thead th {\n",
       "        text-align: right;\n",
       "    }\n",
       "</style>\n",
       "<table border=\"1\" class=\"dataframe\">\n",
       "  <thead>\n",
       "    <tr style=\"text-align: right;\">\n",
       "      <th></th>\n",
       "      <th>Word</th>\n",
       "      <th>Count</th>\n",
       "    </tr>\n",
       "  </thead>\n",
       "  <tbody>\n",
       "    <tr>\n",
       "      <th>0</th>\n",
       "      <td>im</td>\n",
       "      <td>443</td>\n",
       "    </tr>\n",
       "    <tr>\n",
       "      <th>1</th>\n",
       "      <td>dont</td>\n",
       "      <td>341</td>\n",
       "    </tr>\n",
       "    <tr>\n",
       "      <th>2</th>\n",
       "      <td>would</td>\n",
       "      <td>228</td>\n",
       "    </tr>\n",
       "    <tr>\n",
       "      <th>3</th>\n",
       "      <td>like</td>\n",
       "      <td>195</td>\n",
       "    </tr>\n",
       "    <tr>\n",
       "      <th>4</th>\n",
       "      <td>think</td>\n",
       "      <td>194</td>\n",
       "    </tr>\n",
       "    <tr>\n",
       "      <th>5</th>\n",
       "      <td>get</td>\n",
       "      <td>192</td>\n",
       "    </tr>\n",
       "    <tr>\n",
       "      <th>6</th>\n",
       "      <td>sure</td>\n",
       "      <td>179</td>\n",
       "    </tr>\n",
       "    <tr>\n",
       "      <th>7</th>\n",
       "      <td>move</td>\n",
       "      <td>173</td>\n",
       "    </tr>\n",
       "    <tr>\n",
       "      <th>8</th>\n",
       "      <td>going</td>\n",
       "      <td>157</td>\n",
       "    </tr>\n",
       "    <tr>\n",
       "      <th>9</th>\n",
       "      <td>didnt</td>\n",
       "      <td>151</td>\n",
       "    </tr>\n",
       "    <tr>\n",
       "      <th>10</th>\n",
       "      <td>support</td>\n",
       "      <td>147</td>\n",
       "    </tr>\n",
       "    <tr>\n",
       "      <th>11</th>\n",
       "      <td>really</td>\n",
       "      <td>140</td>\n",
       "    </tr>\n",
       "    <tr>\n",
       "      <th>12</th>\n",
       "      <td>want</td>\n",
       "      <td>130</td>\n",
       "    </tr>\n",
       "    <tr>\n",
       "      <th>13</th>\n",
       "      <td>sorry</td>\n",
       "      <td>129</td>\n",
       "    </tr>\n",
       "    <tr>\n",
       "      <th>14</th>\n",
       "      <td>well</td>\n",
       "      <td>125</td>\n",
       "    </tr>\n",
       "  </tbody>\n",
       "</table>\n",
       "</div>"
      ],
      "text/plain": [
       "       Word  Count\n",
       "0        im    443\n",
       "1      dont    341\n",
       "2     would    228\n",
       "3      like    195\n",
       "4     think    194\n",
       "5       get    192\n",
       "6      sure    179\n",
       "7      move    173\n",
       "8     going    157\n",
       "9     didnt    151\n",
       "10  support    147\n",
       "11   really    140\n",
       "12     want    130\n",
       "13    sorry    129\n",
       "14     well    125"
      ]
     },
     "metadata": {},
     "output_type": "display_data"
    }
   ],
   "source": [
    "top_N = 15\n",
    "txt = df[df['negative_sentiment'] == 1.0].messages.str.lower().str.replace(r'\\|', ' ').str.cat(sep=' ')\n",
    "term_count(txt, 15)"
   ]
  },
  {
   "cell_type": "markdown",
   "metadata": {},
   "source": [
    "* #### Neutral sentiment term count"
   ]
  },
  {
   "cell_type": "code",
   "execution_count": 24,
   "metadata": {},
   "outputs": [
    {
     "data": {
      "text/html": [
       "<div>\n",
       "<style scoped>\n",
       "    .dataframe tbody tr th:only-of-type {\n",
       "        vertical-align: middle;\n",
       "    }\n",
       "\n",
       "    .dataframe tbody tr th {\n",
       "        vertical-align: top;\n",
       "    }\n",
       "\n",
       "    .dataframe thead th {\n",
       "        text-align: right;\n",
       "    }\n",
       "</style>\n",
       "<table border=\"1\" class=\"dataframe\">\n",
       "  <thead>\n",
       "    <tr style=\"text-align: right;\">\n",
       "      <th></th>\n",
       "      <th>Word</th>\n",
       "      <th>Count</th>\n",
       "    </tr>\n",
       "  </thead>\n",
       "  <tbody>\n",
       "    <tr>\n",
       "      <th>0</th>\n",
       "      <td>im</td>\n",
       "      <td>839</td>\n",
       "    </tr>\n",
       "    <tr>\n",
       "      <th>1</th>\n",
       "      <td>support</td>\n",
       "      <td>673</td>\n",
       "    </tr>\n",
       "    <tr>\n",
       "      <th>2</th>\n",
       "      <td>think</td>\n",
       "      <td>610</td>\n",
       "    </tr>\n",
       "    <tr>\n",
       "      <th>3</th>\n",
       "      <td>would</td>\n",
       "      <td>549</td>\n",
       "    </tr>\n",
       "    <tr>\n",
       "      <th>4</th>\n",
       "      <td>move</td>\n",
       "      <td>508</td>\n",
       "    </tr>\n",
       "    <tr>\n",
       "      <th>5</th>\n",
       "      <td>get</td>\n",
       "      <td>471</td>\n",
       "    </tr>\n",
       "    <tr>\n",
       "      <th>6</th>\n",
       "      <td>going</td>\n",
       "      <td>468</td>\n",
       "    </tr>\n",
       "    <tr>\n",
       "      <th>7</th>\n",
       "      <td>like</td>\n",
       "      <td>448</td>\n",
       "    </tr>\n",
       "    <tr>\n",
       "      <th>8</th>\n",
       "      <td>take</td>\n",
       "      <td>432</td>\n",
       "    </tr>\n",
       "    <tr>\n",
       "      <th>9</th>\n",
       "      <td>want</td>\n",
       "      <td>424</td>\n",
       "    </tr>\n",
       "    <tr>\n",
       "      <th>10</th>\n",
       "      <td>ill</td>\n",
       "      <td>374</td>\n",
       "    </tr>\n",
       "    <tr>\n",
       "      <th>11</th>\n",
       "      <td>yeah</td>\n",
       "      <td>362</td>\n",
       "    </tr>\n",
       "    <tr>\n",
       "      <th>12</th>\n",
       "      <td>could</td>\n",
       "      <td>350</td>\n",
       "    </tr>\n",
       "    <tr>\n",
       "      <th>13</th>\n",
       "      <td>f</td>\n",
       "      <td>334</td>\n",
       "    </tr>\n",
       "    <tr>\n",
       "      <th>14</th>\n",
       "      <td>need</td>\n",
       "      <td>310</td>\n",
       "    </tr>\n",
       "  </tbody>\n",
       "</table>\n",
       "</div>"
      ],
      "text/plain": [
       "       Word  Count\n",
       "0        im    839\n",
       "1   support    673\n",
       "2     think    610\n",
       "3     would    549\n",
       "4      move    508\n",
       "5       get    471\n",
       "6     going    468\n",
       "7      like    448\n",
       "8      take    432\n",
       "9      want    424\n",
       "10      ill    374\n",
       "11     yeah    362\n",
       "12    could    350\n",
       "13        f    334\n",
       "14     need    310"
      ]
     },
     "metadata": {},
     "output_type": "display_data"
    }
   ],
   "source": [
    "top_N = 15\n",
    "txt = df[df['neutral_sentiment'] == 1.0].messages.str.lower().str.replace(r'\\|', ' ').str.cat(sep=' ')\n",
    "term_count(txt, 15)"
   ]
  },
  {
   "cell_type": "markdown",
   "metadata": {},
   "source": [
    "* #### Positive sentiment term count"
   ]
  },
  {
   "cell_type": "code",
   "execution_count": 25,
   "metadata": {},
   "outputs": [
    {
     "data": {
      "text/html": [
       "<div>\n",
       "<style scoped>\n",
       "    .dataframe tbody tr th:only-of-type {\n",
       "        vertical-align: middle;\n",
       "    }\n",
       "\n",
       "    .dataframe tbody tr th {\n",
       "        vertical-align: top;\n",
       "    }\n",
       "\n",
       "    .dataframe thead th {\n",
       "        text-align: right;\n",
       "    }\n",
       "</style>\n",
       "<table border=\"1\" class=\"dataframe\">\n",
       "  <thead>\n",
       "    <tr style=\"text-align: right;\">\n",
       "      <th></th>\n",
       "      <th>Word</th>\n",
       "      <th>Count</th>\n",
       "    </tr>\n",
       "  </thead>\n",
       "  <tbody>\n",
       "    <tr>\n",
       "      <th>0</th>\n",
       "      <td>good</td>\n",
       "      <td>350</td>\n",
       "    </tr>\n",
       "    <tr>\n",
       "      <th>1</th>\n",
       "      <td>sounds</td>\n",
       "      <td>140</td>\n",
       "    </tr>\n",
       "    <tr>\n",
       "      <th>2</th>\n",
       "      <td>im</td>\n",
       "      <td>123</td>\n",
       "    </tr>\n",
       "    <tr>\n",
       "      <th>3</th>\n",
       "      <td>would</td>\n",
       "      <td>112</td>\n",
       "    </tr>\n",
       "    <tr>\n",
       "      <th>4</th>\n",
       "      <td>well</td>\n",
       "      <td>106</td>\n",
       "    </tr>\n",
       "    <tr>\n",
       "      <th>5</th>\n",
       "      <td>thanks</td>\n",
       "      <td>92</td>\n",
       "    </tr>\n",
       "    <tr>\n",
       "      <th>6</th>\n",
       "      <td>think</td>\n",
       "      <td>85</td>\n",
       "    </tr>\n",
       "    <tr>\n",
       "      <th>7</th>\n",
       "      <td>great</td>\n",
       "      <td>82</td>\n",
       "    </tr>\n",
       "    <tr>\n",
       "      <th>8</th>\n",
       "      <td>like</td>\n",
       "      <td>80</td>\n",
       "    </tr>\n",
       "    <tr>\n",
       "      <th>9</th>\n",
       "      <td>happy</td>\n",
       "      <td>60</td>\n",
       "    </tr>\n",
       "    <tr>\n",
       "      <th>10</th>\n",
       "      <td>get</td>\n",
       "      <td>59</td>\n",
       "    </tr>\n",
       "    <tr>\n",
       "      <th>11</th>\n",
       "      <td>game</td>\n",
       "      <td>57</td>\n",
       "    </tr>\n",
       "    <tr>\n",
       "      <th>12</th>\n",
       "      <td>best</td>\n",
       "      <td>55</td>\n",
       "    </tr>\n",
       "    <tr>\n",
       "      <th>13</th>\n",
       "      <td>really</td>\n",
       "      <td>51</td>\n",
       "    </tr>\n",
       "    <tr>\n",
       "      <th>14</th>\n",
       "      <td>yeah</td>\n",
       "      <td>48</td>\n",
       "    </tr>\n",
       "  </tbody>\n",
       "</table>\n",
       "</div>"
      ],
      "text/plain": [
       "      Word  Count\n",
       "0     good    350\n",
       "1   sounds    140\n",
       "2       im    123\n",
       "3    would    112\n",
       "4     well    106\n",
       "5   thanks     92\n",
       "6    think     85\n",
       "7    great     82\n",
       "8     like     80\n",
       "9    happy     60\n",
       "10     get     59\n",
       "11    game     57\n",
       "12    best     55\n",
       "13  really     51\n",
       "14    yeah     48"
      ]
     },
     "metadata": {},
     "output_type": "display_data"
    }
   ],
   "source": [
    "top_N = 15\n",
    "txt = df[df['positive_sentiment'] == 1.0].messages.str.lower().str.replace(r'\\|', ' ').str.cat(sep=' ')\n",
    "term_count(txt, 15)"
   ]
  },
  {
   "cell_type": "markdown",
   "metadata": {},
   "source": [
    "## 2.3. Lies, politeness and sentiment relative to year"
   ]
  },
  {
   "cell_type": "code",
   "execution_count": 26,
   "metadata": {},
   "outputs": [],
   "source": [
    "df[\"years\"] = df[\"years\"].astype(int)\n",
    "df[\"game_score\"] = df[\"game_score\"].astype(int)\n",
    "df[\"game_score_delta\"] = df[\"game_score_delta\"].astype(int)"
   ]
  },
  {
   "cell_type": "code",
   "execution_count": 27,
   "metadata": {},
   "outputs": [
    {
     "data": {
      "image/png": "[encoded data removed]",
      "text/plain": [
       "<Figure size 432x288 with 1 Axes>"
      ]
     },
     "metadata": {
      "needs_background": "light"
     },
     "output_type": "display_data"
    }
   ],
   "source": [
    "sns.lineplot(data=df, x=\"years\", y=\"politeness\")\n",
    "plt.title(\"Politeness score relative to year\")\n",
    "plt.show()"
   ]
  },
  {
   "cell_type": "code",
   "execution_count": 28,
   "metadata": {},
   "outputs": [
    {
     "data": {
      "image/png": "[encoded data removed]",
      "text/plain": [
       "<Figure size 432x288 with 1 Axes>"
      ]
     },
     "metadata": {
      "needs_background": "light"
     },
     "output_type": "display_data"
    }
   ],
   "source": [
    "sns.lineplot(data=df, x=\"years\", y=\"vader_score\")\n",
    "plt.title(\"VADER sentiment score relative to year\")\n",
    "plt.show()"
   ]
  },
  {
   "cell_type": "code",
   "execution_count": 29,
   "metadata": {},
   "outputs": [
    {
     "data": {
      "image/png": "[encoded data removed]",
      "text/plain": [
       "<Figure size 432x288 with 1 Axes>"
      ]
     },
     "metadata": {
      "needs_background": "light"
     },
     "output_type": "display_data"
    }
   ],
   "source": [
    "sns.lineplot(data=df, x=\"years\", y=\"sender_labels\")\n",
    "plt.title(\"Proportion of truths relative to year\")\n",
    "plt.show()"
   ]
  },
  {
   "cell_type": "markdown",
   "metadata": {},
   "source": [
    "## 2.4. Lies, politeness and sentiment relative to game score delta"
   ]
  },
  {
   "cell_type": "code",
   "execution_count": 30,
   "metadata": {},
   "outputs": [
    {
     "data": {
      "image/png": "[encoded data removed]",
      "text/plain": [
       "<Figure size 432x288 with 1 Axes>"
      ]
     },
     "metadata": {
      "needs_background": "light"
     },
     "output_type": "display_data"
    }
   ],
   "source": [
    "sns.lineplot(data=df, x=\"game_score_delta\", y=\"politeness\")\n",
    "plt.title(\"Politeness score to difference in game score\")\n",
    "plt.show()"
   ]
  },
  {
   "cell_type": "code",
   "execution_count": 31,
   "metadata": {},
   "outputs": [
    {
     "data": {
      "image/png": "[encoded data removed]",
      "text/plain": [
       "<Figure size 432x288 with 1 Axes>"
      ]
     },
     "metadata": {
      "needs_background": "light"
     },
     "output_type": "display_data"
    }
   ],
   "source": [
    "sns.lineplot(data=df, x=\"game_score_delta\", y=\"vader_score\")\n",
    "plt.title(\"VADER sentiment score to difference in game score\")\n",
    "plt.show()"
   ]
  },
  {
   "cell_type": "code",
   "execution_count": 32,
   "metadata": {},
   "outputs": [
    {
     "data": {
      "image/png": "[encoded data removed]",
      "text/plain": [
       "<Figure size 432x288 with 1 Axes>"
      ]
     },
     "metadata": {
      "needs_background": "light"
     },
     "output_type": "display_data"
    }
   ],
   "source": [
    "sns.lineplot(data=df, x=\"game_score_delta\", y=\"sender_labels\")\n",
    "plt.title(\"Proportion of truths relative to difference in game score\")\n",
    "plt.show()"
   ]
  }
 ],
 "metadata": {
  "kernelspec": {
   "display_name": "Python 3",
   "language": "python",
   "name": "python3"
  },
  "language_info": {
   "codemirror_mode": {
    "name": "ipython",
    "version": 3
   },
   "file_extension": ".py",
   "mimetype": "text/x-python",
   "name": "python",
   "nbconvert_exporter": "python",
   "pygments_lexer": "ipython3",
   "version": "3.8.6"
  }
 },
 "nbformat": 4,
 "nbformat_minor": 4
}
