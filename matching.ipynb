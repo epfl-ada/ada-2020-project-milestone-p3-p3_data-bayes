{
 "cells": [
  {
   "cell_type": "code",
   "execution_count": 45,
   "metadata": {},
   "outputs": [],
   "source": [
    "import matplotlib.pyplot as plt\n",
    "import pandas as pd\n",
    "import sklearn.linear_model\n",
    "import sklearn.metrics"
   ]
  },
  {
   "cell_type": "code",
   "execution_count": 2,
   "metadata": {},
   "outputs": [],
   "source": [
    "dataset = pd.read_pickle('deception_df.pkl')"
   ]
  },
  {
   "cell_type": "code",
   "execution_count": 57,
   "metadata": {},
   "outputs": [],
   "source": [
    "# print(dataset.head())"
   ]
  },
  {
   "cell_type": "markdown",
   "metadata": {},
   "source": [
    "As a first step, let us do something about the missing values in the `receiver_labels` column, denoted by NOANNOTATION. Since less than 10% of data is missing, we just drop those rows."
   ]
  },
  {
   "cell_type": "code",
   "execution_count": 37,
   "metadata": {},
   "outputs": [],
   "source": [
    "dataset.loc[dataset['receiver_labels'] == 'NOANNOTATION', 'receiver_labels'] = None\n",
    "dataset.dropna(axis=0, subset=['receiver_labels'], inplace=True)\n",
    "dataset['receiver_labels'] = dataset['receiver_labels'].astype(bool)"
   ]
  },
  {
   "cell_type": "markdown",
   "metadata": {},
   "source": [
    "#### Confusion matrix\n",
    "\n",
    "For future reference, we will compute a confusion matrix of lies and perceived lies right now."
   ]
  },
  {
   "cell_type": "code",
   "execution_count": 40,
   "metadata": {},
   "outputs": [
    {
     "name": "stdout",
     "output_type": "stream",
     "text": [
      "TP: 111, FP: 667, TN: 14314, FN: 691\n"
     ]
    }
   ],
   "source": [
    "tp = sum(~dataset['sender_labels'] & ~dataset['receiver_labels']) # Lies perceived as lies\n",
    "fp = sum(dataset['sender_labels'] & ~dataset['receiver_labels']) # Truths perceived as lies\n",
    "tn = sum(dataset['sender_labels'] & dataset['receiver_labels']) # Truths perceived as truths\n",
    "fn = sum(~dataset['sender_labels'] & dataset['receiver_labels']) # Lies perceived as truths\n",
    "\n",
    "print(\"TP: {}, FP: {}, TN: {}, FN: {}\".format(tp, fp, tn, fn))"
   ]
  },
  {
   "cell_type": "markdown",
   "metadata": {},
   "source": [
    "#### The motivation for matching\n",
    "\n",
    "We wish to answer the three following questions:\n",
    "\n",
    "1. Are the linguistic features (e.g. higher politeness) found in messages leading up to a betrayal similar to the features found in lies?\n",
    "2. Are the linguistic features of lies similar to the features of perceived lies?\n",
    "3. How do the linguistic features of truths perceived as truth, truths perceived as lies, undetected lies, and detected lies differ?\n",
    "\n",
    "Our first instinct in investigating these questions might be to indiscriminately compare the features of the groups of messages defined in each question. This would pose a problem to the validity of our answers. \n",
    "Take for instance the second question. Let's assume that through some accident of chance, all of the messages which are lies are sent in a moment where the game is going disastrously for the sender, whereas all of the messages which are perceived lies are sent in a moment where the game is going wonderfully for the sender. We could expect in this case the messages which are lies to have a predominantly negative sentiment and those which are perceived lies to have predominantly positive sentiment. This would be misleading, as we might conclude that there is a large difference in sentiment between lies and perceived lies, whereas if all messages would have been sent in moments where the game was going similarly well, the sentiment might've been closer.\n",
    "This conundrum can be expressed as follows: if the game is going badly for the sender, then a) the sentiment will be predominantly negative and b) the message will be a lie; if the game is going well for the sender, then a) the sentiment will be predominantly positive and b) the message will be a perceived lie. We choose here to consider the message sentiment to be an independent variable and whether the message is part of the \"lie\" group or \"perceived lie\" group to be the dependent variable (note that while the same message can be both a lie and perceived as one, we consider it to be two distinct messages if it belongs to both groups, so one message can only be in one of the two groups). We could make the opposite choice, but this is in line with our objectives. A Bayesian network of this situation might look like this, where G denotes how well the game is going, S the sentiment of the message and L the group the message is in (in more conventional terms, we can arbitrarily pick one group as the treatment group and the other as the control group):\n",
    "\n",
    "```\n",
    "----(G)----\n",
    "|         |\n",
    "|         |\n",
    "v         v\n",
    "(S)----->(L)\n",
    "```\n",
    "\n",
    "It is easy to see from this diagram that how well the game is going is a confounder. Now that we have been warned about the dangers of the naive approach, let us see how we can avoid them.\n",
    "\n",
    "Both the dataset of the initial paper, \"Linguistic Harbingers of Betrayal\", as well as this one, coming from the paper \"It Takes Two to Lie: One to Lie, and One to Listen\" are what we could call \"found data\". As we have seen, our questions make it dubious to claim a natural experiment paradigm, and we must eliminate the influence of confounding variables. In order to do so, we will use matching. Our independent variables are the features which interest us, namely politeness and sentiment.\n",
    "\n",
    "We will specifically resort to propensity score matching (PSM). The propensity indicates the probability of an individual sample to be in the treatment group, given the independent variables. The general process we will use for PSM is as follows:\n",
    "\n",
    "1. Pick the dependent variable.\n",
    "2. Fit a logistic regression with the independent variables as inputs and the dependent variable as output to model the propensity score.\n",
    "3. Compute the propensity score for all messages.\n",
    "4. Perform the matching using caliper matching.\n",
    "5. Check that the covariates are balanced when conditioned on the propensity score.\n",
    "\n",
    "We will now proceed question by question."
   ]
  },
  {
   "cell_type": "code",
   "execution_count": 6,
   "metadata": {},
   "outputs": [],
   "source": [
    "independent_variable_cols = ['politeness', 'negative_sentiment', 'neutral_sentiment', 'positive_sentiment']"
   ]
  },
  {
   "cell_type": "markdown",
   "metadata": {},
   "source": [
    "#### 2. Are the linguistic features of lies similar to the features of perceived lies?\n",
    "\n",
    "A lie which is perceived as a lie is in both the control and treatment group. In fact, if all lies were perceived as lies, no matching would be needed, and lies and perceived lies would have identical features! Of course, in reality, some players are overly naive and some overly suspicious, which prevents this from being the case. In fact, lies correctly perceived as lies are a minority, numbering only 111, while truths perceived as lies and lies perceived as truths together number 1358. While the best matching for these 111 messages is with themselves, the 1358 messages must be matched among themselves, warranting the use of PSM.\n",
    "\n",
    "We choose the dependent variable to be whether a message is a lie or a perceived lie. The treatment group is chosen to be the lies and the control group the perceived lies."
   ]
  },
  {
   "cell_type": "code",
   "execution_count": 64,
   "metadata": {},
   "outputs": [
    {
     "name": "stdout",
     "output_type": "stream",
     "text": [
      "0.5818989450305385 0.5234177215189874\n"
     ]
    }
   ],
   "source": [
    "dependent_variable_col = 'treatment'\n",
    "\n",
    "lies = dataset[~dataset['sender_labels']][independent_variable_cols]\n",
    "lies[dependent_variable_col] = 1\n",
    "perceived_lies = dataset[~dataset['receiver_labels']][independent_variable_cols]\n",
    "perceived_lies[dependent_variable_col] = 0\n",
    "\n",
    "train_2 = pd.concat([lies, perceived_lies])\n",
    "X_train_2, y_train_2 = train_2[independent_variable_cols], train_2[dependent_variable_col]\n",
    "\n",
    "logistic_regression_2 = sklearn.linear_model.LogisticRegression().fit(X_train_2, y_train_2)\n",
    "\n",
    "propensity_scores_2 = logistic_regression_2.predict(X_train_2)\n",
    "train_2['propensity_score'] = propensity_scores_2\n",
    "# TODO not very good results on the metrics!!! try other models? are these metrics even meaningful? should we train test split?\n",
    "print(sklearn.metrics.f1_score(y_train_2, propensity_scores_2), sklearn.metrics.accuracy_score(y_train_2, propensity_scores_2))"
   ]
  },
  {
   "cell_type": "code",
   "execution_count": 65,
   "metadata": {},
   "outputs": [
    {
     "name": "stdout",
     "output_type": "stream",
     "text": [
      "[1 0]\n"
     ]
    }
   ],
   "source": [
    "print(train_2['propensity_score'].unique()) # Why do we get this???"
   ]
  },
  {
   "cell_type": "code",
   "execution_count": 90,
   "metadata": {},
   "outputs": [],
   "source": [
    "max_caliper = 0.2 # useless rn since the dist can only be 1 or 0\n",
    "\n",
    "lies['propensity_score'] = logistic_regression_2.predict(lies[independent_variable_cols])\n",
    "perceived_lies['propensity_score'] = logistic_regression_2.predict(perceived_lies[independent_variable_cols])\n",
    "\n",
    "def caliper_match(smaller, larger, max_prop_dist=0.2):\n",
    "    matches = []\n",
    "    \n",
    "    smaller_indices = list(smaller.index)\n",
    "    larger_indices = list(larger.index)\n",
    "    \n",
    "    while len(smaller_indices) > 0:\n",
    "        smaller_idx = smaller_indices[0]\n",
    "        found_larger_idx = -1\n",
    "        for larger_idx in larger_indices:\n",
    "            prop_dist = abs(smaller.loc[smaller_idx, 'propensity_score'] - larger.loc[larger_idx, 'propensity_score'])\n",
    "            if prop_dist <= max_prop_dist:\n",
    "                matches.append((smaller_idx, larger_idx))\n",
    "                found_larger_idx = larger_idx\n",
    "                break\n",
    "\n",
    "        smaller_indices.remove(smaller_idx)\n",
    "        if found_larger_idx != -1:\n",
    "            larger_indices.remove(found_larger_idx)\n",
    "            \n",
    "    return matches\n",
    "\n",
    "matches = None\n",
    "if len(lies) >= len(perceived_lies):\n",
    "    matches = caliper_match(perceived_lies, lies)\n",
    "    matches = [(n, m) for (m, n) in matches]\n",
    "else:\n",
    "    matches = caliper_match(lies, perceived_lies)\n",
    "\n",
    "# matches is a list of pairs, the first element is the index of the lies, the second of the perceived lies\n",
    "# print(matches)\n",
    "# print(len(matches))\n",
    "\n",
    "selected_lie_indices = [m for (m, n) in matches]\n",
    "selected_lies = lies.loc[selected_lie_indices]\n",
    "selected_perceived_lie_indices = [n for (m, n) in matches]\n",
    "selected_perceived_lies = perceived_lies.loc[selected_perceived_lie_indices]"
   ]
  },
  {
   "cell_type": "code",
   "execution_count": 93,
   "metadata": {},
   "outputs": [
    {
     "data": {
      "image/png": "[encoded data removed]",
      "text/plain": [
       "<Figure size 432x288 with 1 Axes>"
      ]
     },
     "metadata": {
      "needs_background": "light"
     },
     "output_type": "display_data"
    },
    {
     "data": {
      "image/png": "[encoded data removed]",
      "text/plain": [
       "<Figure size 432x288 with 1 Axes>"
      ]
     },
     "metadata": {
      "needs_background": "light"
     },
     "output_type": "display_data"
    }
   ],
   "source": [
    "plt.hist(selected_lies['politeness'])\n",
    "plt.show()\n",
    "plt.hist(selected_perceived_lies['politeness'])\n",
    "plt.show()"
   ]
  },
  {
   "cell_type": "code",
   "execution_count": 95,
   "metadata": {},
   "outputs": [
    {
     "data": {
      "image/png": "[encoded data removed]",
      "text/plain": [
       "<Figure size 432x288 with 1 Axes>"
      ]
     },
     "metadata": {
      "needs_background": "light"
     },
     "output_type": "display_data"
    },
    {
     "data": {
      "text/plain": [
       "(array([419.,   6.,  27.,  45.,   8., 103.,  13.,   2.,   1., 129.]),\n",
       " array([0. , 0.1, 0.2, 0.3, 0.4, 0.5, 0.6, 0.7, 0.8, 0.9, 1. ]),\n",
       " <BarContainer object of 10 artists>)"
      ]
     },
     "execution_count": 95,
     "metadata": {},
     "output_type": "execute_result"
    },
    {
     "data": {
      "image/png": "[encoded data removed]",
      "text/plain": [
       "<Figure size 432x288 with 1 Axes>"
      ]
     },
     "metadata": {
      "needs_background": "light"
     },
     "output_type": "display_data"
    }
   ],
   "source": [
    "plt.hist(selected_lies['negative_sentiment'])\n",
    "plt.show()\n",
    "plt.hist(selected_perceived_lies['negative_sentiment'])\n",
    "\n",
    "# Seems like it's working but really I have no clue"
   ]
  },
  {
   "cell_type": "code",
   "execution_count": null,
   "metadata": {},
   "outputs": [],
   "source": []
  }
 ],
 "metadata": {
  "kernelspec": {
   "display_name": "Python 3",
   "language": "python",
   "name": "python3"
  },
  "language_info": {
   "codemirror_mode": {
    "name": "ipython",
    "version": 3
   },
   "file_extension": ".py",
   "mimetype": "text/x-python",
   "name": "python",
   "nbconvert_exporter": "python",
   "pygments_lexer": "ipython3",
   "version": "3.8.6"
  }
 },
 "nbformat": 4,
 "nbformat_minor": 4
}
